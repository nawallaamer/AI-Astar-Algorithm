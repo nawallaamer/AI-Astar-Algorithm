{
  "cells": [
    {
      "cell_type": "markdown",
      "metadata": {
        "id": "teUfGUr3tF5i"
      },
      "source": [
        "***Q. No. 1*** - Navigate through a simple 2D maze using BFS to find if there's a path from the start to the goal. Complete the implementation of the BFS algorithm to find the shortest path through a maze represented by a 2D grid. The function is partially written; fill in the missing parts to enqueue neighboring nodes properly and ensure the path is tracked efficiently."
      ]
    },
    {
      "cell_type": "code",
      "execution_count": 8,
      "metadata": {
        "id": "cql3qaqhtcfU"
      },
      "outputs": [],
      "source": [
        "def bfs_in_a_maze(maze, start, end):\n",
        "    queue = [start]\n",
        "    visited = set()\n",
        "    while queue:\n",
        "        current = queue.pop(0)\n",
        "        if current == end:\n",
        "            return True  # Path found\n",
        "        row,col = current\n",
        "        # Add logic to enqueue unvisited neighbors\n",
        "        visited.add(current)\n",
        "        direction = [(1,0),(0,1),(-1,0),(0,-1)]\n",
        "        for dirRow,dirCol in direction:\n",
        "            newRow,newCol = row + dirRow,col + dirCol\n",
        "            if 0 <= newRow < len(maze) and 0 <= newCol < len(maze[0]) and maze[newRow][newCol] == 0:\n",
        "                neighbour = (newRow,newCol)\n",
        "                if neighbour not in visited:\n",
        "                    queue.append(neighbour)\n",
        "                    visited.add(neighbour)\n",
        "    return False\n",
        "\n",
        "# Initialized maze (0: path, 1: wall)\n",
        "maze = [\n",
        "    [0, 1, 0, 0, 0],\n",
        "    [0, 1, 0, 1, 0],\n",
        "    [0, 0, 0, 1, 0],\n",
        "    [1, 1, 0, 0, 0],\n",
        "    [0, 0, 0, 1, 0]\n",
        "]\n",
        "start_BFS, end_BFS = (0, 0), (4, 4)\n",
        "# Test assertion\n",
        "assert bfs_in_a_maze(maze, start_BFS, end_BFS) == True\n"
      ]
    },
    {
      "cell_type": "markdown",
      "metadata": {
        "id": "B0pE6pxStskf"
      },
      "source": [
        "***Q. No. 2*** - Implement the missing parts of a recursive DFS function applied to a graph structure. The base case is provided, and your task is to complete the recursive calls, ensuring the algorithm correctly avoids revisiting nodes."
      ]
    },
    {
      "cell_type": "code",
      "execution_count": 9,
      "metadata": {
        "id": "28rGp7Zxtkfj"
      },
      "outputs": [],
      "source": [
        "def dfs_recursive(graph, node, visited=None):\n",
        "    if visited is None:\n",
        "        visited = set()\n",
        "    visited.add(node)\n",
        "    for neighbour in graph[node]:\n",
        "        if neighbour not in visited:\n",
        "            visited = dfs_recursive(graph, neighbour, visited)\n",
        "    return visited\n",
        "\n",
        "# Initialized graph\n",
        "graph_DFS = {\n",
        "    'A': ['B', 'C'],\n",
        "    'B': ['A', 'D', 'E'],\n",
        "    'C': ['A', 'F'],\n",
        "    'D': ['B'],\n",
        "    'E': ['B', 'F'],\n",
        "    'F': ['C', 'E']\n",
        "}\n",
        "start_node_DFS = 'A'\n",
        "# Expected output includes all nodes since it's a connected graph\n",
        "expected_visited_DFS = {'A', 'B', 'C', 'D', 'E', 'F'}\n",
        "# Test assertion\n",
        "assert dfs_recursive(graph_DFS, start_node_DFS) == expected_visited_DFS\n"
      ]
    },
    {
      "cell_type": "markdown",
      "metadata": {
        "id": "y25G-GPEtxK9"
      },
      "source": [
        "***Q. No. 3*** - Given a list of numbers, use Python list comprehensions to create a new list containing the square of each odd number in the original list. The initial list and a partial function are provided; complete the list comprehension part."
      ]
    },
    {
      "cell_type": "code",
      "execution_count": 10,
      "metadata": {
        "id": "Rm8H5_30t0kU"
      },
      "outputs": [],
      "source": [
        "def transform_list(input_list):\n",
        "    # Complete the list comprehension to square each element\n",
        "    return [x**2 for x in input_list]\n",
        "\n",
        "# Test input and assertion\n",
        "test_input_TRLIST = [1, 2, 3, 4]\n",
        "expected_output_TRLIST = [1, 4, 9, 16]\n",
        "assert transform_list(test_input_TRLIST) == expected_output_TRLIST\n"
      ]
    },
    {
      "cell_type": "markdown",
      "metadata": {
        "id": "FnUnKtiGuBqP"
      },
      "source": [
        "***Q. No. 4*** - Implement the missing parts of the Uniform Cost Search algorithm to find the lowest cost path in a weighted graph from a start node to a goal node. The initial setup, including the priority queue, is provided. Focus on handling node costs correctly and ensuring the lowest cost path is selected"
      ]
    },
    {
      "cell_type": "code",
      "execution_count": 11,
      "metadata": {
        "id": "fUFIHxBcuEYr"
      },
      "outputs": [],
      "source": [
        "def uniform_cost_search(graph, start, goal):\n",
        "    from queue import PriorityQueue\n",
        "    frontier = PriorityQueue()\n",
        "    frontier.put((0, start))\n",
        "    came_from = {start: None}\n",
        "    cost_so_far = {start: 0}\n",
        "    # Complete the search loop\n",
        "    while not frontier.empty():\n",
        "        current_cost, current_node = frontier.get()\n",
        "\n",
        "        if current_node == goal:\n",
        "            path_cost = cost_so_far[current_node]\n",
        "            return path_cost\n",
        "\n",
        "        for neighbor, cost in graph[current_node].items():\n",
        "            new_cost = cost_so_far[current_node] + cost\n",
        "            if neighbor not in cost_so_far or new_cost < cost_so_far[neighbor]:\n",
        "                cost_so_far[neighbor] = new_cost\n",
        "                priority = new_cost\n",
        "                frontier.put((priority, neighbor))\n",
        "                came_from[neighbor] = current_node\n",
        "\n",
        "    return float('inf')\n",
        "\n",
        "# Initialized weighted graph\n",
        "graph_UCS = {\n",
        "    'A': {'B': 2, 'C': 5},\n",
        "    'B': {'A': 2, 'D': 3, 'E': 1},\n",
        "    'C': {'A': 5, 'E': 2},\n",
        "    'D': {'B': 3},\n",
        "    'E': {'B': 1, 'C': 2}\n",
        "}\n",
        "start_UCS, goal_UCS = 'A', 'D'\n",
        "expected_path_cost_UCS = 5  # A->B->D or A->B->E->C->A->B->D\n",
        "# Test assertion\n",
        "assert uniform_cost_search(graph_UCS, start_UCS, goal_UCS) == expected_path_cost_UCS\n"
      ]
    },
    {
      "cell_type": "markdown",
      "metadata": {
        "id": "8jPMlE9muRKG"
      },
      "source": [
        "***Q. No. 5 -*** Given a dataset containing sales records for a bookstore where each record is a dictionary with keys 'title', 'author', 'genre', and 'sold', implement a Python function that summarizes total sales per genre.\n",
        "\n",
        "Function Requirements:\n",
        "\n",
        "Input: A list of dictionaries, each representing a sales record.\n",
        "Output: A dictionary with genres as keys and total sales in those genres as values."
      ]
    },
    {
      "cell_type": "code",
      "execution_count": 12,
      "metadata": {
        "id": "kkLafXqLuOku"
      },
      "outputs": [],
      "source": [
        "def summarize_sales_by_genre(sales_data):\n",
        "    genre_sales = {}\n",
        "    for record in sales_data:\n",
        "        genre = record['genre']\n",
        "        sold = record['sold']\n",
        "        # Students to complete: Update the genre_sales dictionary\n",
        "        # Hint: Check if the genre already exists in genre_sales. If it does, add the sold amount to the existing value.\n",
        "        # If the genre does not exist in genre_sales, add it as a new key with the sold amount as its value.\n",
        "        if genre in genre_sales:\n",
        "            genre_sales[genre] += sold\n",
        "        else:\n",
        "            genre_sales[genre] = sold\n",
        "\n",
        "    return genre_sales\n",
        "\n",
        "# Test your function\n",
        "sales_data = [\n",
        "    {'title': 'Book A', 'author': 'Author X', 'genre': 'Fantasy', 'sold': 150},\n",
        "    {'title': 'Book B', 'author': 'Author Y', 'genre': 'Science Fiction', 'sold': 200},\n",
        "     {'title': 'Book C', 'author': 'Author Z', 'genre': 'Fantasy', 'sold': 300},\n",
        "    {'title': 'Book D', 'author': 'Author W', 'genre': 'Non-Fiction', 'sold': 80},\n",
        "    {'title': 'Book E', 'author': 'Author V', 'genre': 'Science Fiction', 'sold': 150}\n",
        "]\n",
        "\n",
        "# Example assertion for testing (adjust according to your test data)\n",
        "expected_output_SUM = {'Fantasy': 450, 'Science Fiction': 350, 'Non-Fiction': 80}\n",
        "assert summarize_sales_by_genre(sales_data) == expected_output_SUM\n"
      ]
    },
    {
      "cell_type": "code",
      "execution_count": 13,
      "metadata": {
        "id": "NHxMun7Jubgk"
      },
      "outputs": [
        {
          "name": "stdout",
          "output_type": "stream",
          "text": [
            "BFS in a Maze Test: Passed\n",
            "DFS Recursive Test: Passed\n",
            "List Manipulation Test: Passed\n",
            "Uniform Cost Search Test: Passed\n",
            "Sales Summary by Genre Test: Passed\n"
          ]
        }
      ],
      "source": [
        "def main():\n",
        "    # Execute each test\n",
        "    print(\"BFS in a Maze Test:\", \"Passed\" if bfs_in_a_maze(maze, start_BFS, end_BFS) else \"Failed\")\n",
        "    print(\"DFS Recursive Test:\", \"Passed\" if dfs_recursive(graph_DFS, start_node_DFS) == expected_visited_DFS else \"Failed\")\n",
        "    print(\"List Manipulation Test:\", \"Passed\" if transform_list(test_input_TRLIST) == expected_output_TRLIST else \"Failed\")\n",
        "    print(\"Uniform Cost Search Test:\", \"Passed\" if uniform_cost_search(graph_UCS, start_UCS, goal_UCS) == expected_path_cost_UCS else \"Failed\")\n",
        "    print(\"Sales Summary by Genre Test:\", \"Passed\" if summarize_sales_by_genre(sales_data) == expected_output_SUM else \"Failed\")\n",
        "\n",
        "if __name__ == \"__main__\":\n",
        "    main()\n"
      ]
    },
    {
      "cell_type": "code",
      "execution_count": null,
      "metadata": {},
      "outputs": [],
      "source": []
    }
  ],
  "metadata": {
    "colab": {
      "provenance": []
    },
    "kernelspec": {
      "display_name": "Python 3",
      "name": "python3"
    },
    "language_info": {
      "codemirror_mode": {
        "name": "ipython",
        "version": 3
      },
      "file_extension": ".py",
      "mimetype": "text/x-python",
      "name": "python",
      "nbconvert_exporter": "python",
      "pygments_lexer": "ipython3",
      "version": "3.11.4"
    }
  },
  "nbformat": 4,
  "nbformat_minor": 0
}
