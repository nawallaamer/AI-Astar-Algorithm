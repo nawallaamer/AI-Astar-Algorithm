{
  "nbformat": 4,
  "nbformat_minor": 0,
  "metadata": {
    "colab": {
      "provenance": []
    },
    "kernelspec": {
      "name": "python3",
      "display_name": "Python 3"
    },
    "language_info": {
      "name": "python"
    }
  },
  "cells": [
    {
      "cell_type": "markdown",
      "metadata": {
        "id": "U6k7lYnZ3clC"
      },
      "source": [
        "Genetic Algorithm"
      ]
    },
    {
      "cell_type": "code",
      "metadata": {
        "id": "tGVaJS0W3ayk"
      },
      "source": [
        "import random"
      ],
      "execution_count": 1,
      "outputs": []
    },
    {
      "cell_type": "markdown",
      "metadata": {
        "id": "QxWWUHUx3sM4"
      },
      "source": [
        "Let say we have fucntion that evaluates the expression to 0 if the answer of expression \" 6 * x ** 3 + 9 * y ** 2 + 90 * z \" is 25.\n",
        "So That's mean we need the most suitable values of x, y and z so that we could achive our target value whichis 25 in this case."
      ]
    },
    {
      "cell_type": "code",
      "metadata": {
        "id": "a7BY0jfW3k0_"
      },
      "source": [
        "def evaluateExpression(x, y, z):\n",
        "\treturn 6 * x ** 3 + 9 * y ** 2 + 90 * z - 25"
      ],
      "execution_count": 2,
      "outputs": []
    },
    {
      "cell_type": "markdown",
      "metadata": {
        "id": "wFSAohyg4s_Y"
      },
      "source": [
        "Let's write the solution based on Genetic Algorithm technique to find the most suitable values of x, y and z."
      ]
    },
    {
      "cell_type": "markdown",
      "metadata": {
        "id": "Kqovna8D5HOH"
      },
      "source": [
        "*Step1* : Population of Solutions:\n",
        "Population is generated entirely from random numbers let say upto 1000 indivuduals."
      ]
    },
    {
      "cell_type": "code",
      "metadata": {
        "id": "ujH6YRGj45L1"
      },
      "source": [
        "# generate solutions\n",
        "solutions = []\n",
        "for counter in range(1000):\n",
        "\tsolutions.append((random.uniform(0, 1000), random.uniform(0, 1000), random.uniform(0, 1000)))\n"
      ],
      "execution_count": 3,
      "outputs": []
    },
    {
      "cell_type": "markdown",
      "metadata": {
        "id": "WaGcxE1g5XDe"
      },
      "source": [
        "Step2: Fitness fucntion:\n",
        "So the most fittest solution will be the one which evalutes the expression to \"0\". Otherwise the best solution will be closest to zero.\n",
        "So the fittness in this case can be seen if the solution is closest to zero. Hnece we can return highest fitness value to those solution which are closest to zero."
      ]
    },
    {
      "cell_type": "code",
      "metadata": {
        "id": "13HwHogg5eYF"
      },
      "source": [
        "def fitness(x, y, z):\n",
        "\tans = evaluateExpression(x, y, z)\n",
        "\n",
        "\tif ans == 0:\n",
        "\t\treturn 99999\n",
        "\telse:\n",
        "\t\treturn abs(1 / ans)\n"
      ],
      "execution_count": 4,
      "outputs": []
    },
    {
      "cell_type": "markdown",
      "metadata": {
        "id": "301_DByz6mIG"
      },
      "source": [
        "Step3: Mating, Crossover or Generating the Genrations:\n",
        "During each generations further sub steps are performed like :\n",
        "Step 3.1: Selection of top ranked solutions\n",
        "Step 3.2: Mutation or slight changes or variation in values of solution.\n",
        "P.S(Here for the sake of anology if solution can be considered as chromosome then vatiable values can be considered as genes)\n"
      ]
    },
    {
      "cell_type": "code",
      "metadata": {
        "colab": {
          "base_uri": "https://localhost:8080/"
        },
        "id": "naXvB6VE7_-7",
        "outputId": "332b0a22-da26-4a43-b07c-cb55793ddb2f"
      },
      "source": [
        "for generation_count in range(10000):\n",
        "\trankedSolutions = []\n",
        "  # fitness step\n",
        "\tfor solution in solutions:\n",
        "\t\trankedSolutions.append((fitness(solution[0], solution[1], solution[2]), solution))\n",
        "\trankedSolutions.sort()\n",
        "\trankedSolutions.reverse()\n",
        "\tprint(f\"=== Generation {generation_count} best solutions ====\")\n",
        "\tprint(rankedSolutions[0])\n",
        "\n",
        "\tif rankedSolutions[0][0] > 999:\n",
        "\t\tbreak\n",
        "\n",
        "\tbestSolution = rankedSolutions[:100]\n",
        "\t# print(bestSolution)\n",
        "\n",
        "  # selection step\n",
        "\tvariables = []\n",
        "\tfor solution in bestSolution:\n",
        "\t\tvariables.append(solution[1][0])  # variable x\n",
        "\t\tvariables.append(solution[1][1])  # variable y\n",
        "\t\tvariables.append(solution[1][2])  # variable z\n",
        "\n",
        "\tnewGeneration = []\n",
        "  # mutation step\n",
        "\tfor counter in range(1000):\n",
        "\t\tx = random.choice(variables) * random.uniform(0.99, 1.01)\n",
        "\t\ty = random.choice(variables) * random.uniform(0.99, 1.01)\n",
        "\t\tz = random.choice(variables) * random.uniform(0.99, 1.01)\n",
        "\n",
        "\t\tnewGeneration.append((x, y, z))\n",
        "\n",
        "\tsolutions = newGeneration\n"
      ],
      "execution_count": 5,
      "outputs": [
        {
          "output_type": "stream",
          "name": "stdout",
          "text": [
            "=== Generation 0 best solutions ====\n",
            "(8.969650841396688e-06, (3.97225815403357, 89.0159024114422, 442.46129175228))\n",
            "=== Generation 1 best solutions ====\n",
            "(0.00015416845198483716, (7.600860393106281, 7.069443085273093, 38.07630562636675))\n",
            "=== Generation 2 best solutions ====\n",
            "(0.0014269158537418881, (4.904238510867041, 0.20242354230107118, 0.19684456319057508))\n",
            "=== Generation 3 best solutions ====\n",
            "(0.00143870755346576, (4.890330043381928, 0.19504038165236012, 0.20003159786712807))\n",
            "=== Generation 4 best solutions ====\n",
            "(0.15536190122191637, (0.19626226016192214, 0.19983659388902705, 0.2017627194138915))\n",
            "=== Generation 5 best solutions ====\n",
            "(0.16381564083545716, (0.19744741715690461, 0.1987000335875378, 0.20548951070370725))\n",
            "=== Generation 6 best solutions ====\n",
            "(0.16807780745862907, (0.1891640667669087, 0.20121707105465747, 0.2071707396766338))\n",
            "=== Generation 7 best solutions ====\n",
            "(0.1734180381014668, (0.2045865915937974, 0.2034122874180021, 0.2089979942635202))\n",
            "=== Generation 8 best solutions ====\n",
            "(0.1781700952760533, (0.20914575577769684, 0.2077028862364062, 0.21049145313116666))\n",
            "=== Generation 9 best solutions ====\n",
            "(0.18247134136502705, (0.20433325104605848, 0.20490657742224974, 0.21211798862526235))\n",
            "=== Generation 10 best solutions ====\n",
            "(0.18906833224156935, (0.1987636488657407, 0.2108387421268316, 0.21404127628275696))\n",
            "=== Generation 11 best solutions ====\n",
            "(0.19334348176190247, (0.21365691011578, 0.2078045726994469, 0.2153410371092582))\n",
            "=== Generation 12 best solutions ====\n",
            "(0.19819703634011757, (0.21480494777983886, 0.21435356985217408, 0.21646134108039566))\n",
            "=== Generation 13 best solutions ====\n",
            "(0.2068707227416643, (0.21309684735821946, 0.214916300978637, 0.2188033482464067))\n",
            "=== Generation 14 best solutions ====\n",
            "(0.21314423372438684, (0.21323124452741754, 0.20959449681169226, 0.22060891093409607))\n",
            "=== Generation 15 best solutions ====\n",
            "(0.22063139818899632, (0.2049090204091454, 0.21715870918251304, 0.2221278937198653))\n",
            "=== Generation 16 best solutions ====\n",
            "(0.22916743540719658, (0.21986508061100277, 0.21844116169680045, 0.22381287637490335))\n",
            "=== Generation 17 best solutions ====\n",
            "(0.23878083948560352, (0.22070808359056798, 0.2204714399398446, 0.22566759456685365))\n",
            "=== Generation 18 best solutions ====\n",
            "(0.2482849992499941, (0.21932751386161745, 0.2227700357528674, 0.2273603125624677))\n",
            "=== Generation 19 best solutions ====\n",
            "(0.25724829499304785, (0.22384602936813985, 0.22271331503532413, 0.22887773864277874))\n",
            "=== Generation 20 best solutions ====\n",
            "(0.2743957367618008, (0.22335237411200237, 0.2267711494008921, 0.23139943115357012))\n",
            "=== Generation 21 best solutions ====\n",
            "(0.29152003408981725, (0.22689265737374695, 0.2287613690806604, 0.23365150183607478))\n",
            "=== Generation 22 best solutions ====\n",
            "(0.2989761445719398, (0.22738055675745722, 0.23412987450561085, 0.23434849210038183))\n",
            "=== Generation 23 best solutions ====\n",
            "(0.31766047668761577, (0.23138672125743454, 0.23505813053057664, 0.23644870547505045))\n",
            "=== Generation 24 best solutions ====\n",
            "(0.33876253961872294, (0.2297900804709412, 0.23762987487802303, 0.23852295375534452))\n",
            "=== Generation 25 best solutions ====\n",
            "(0.36011836758952764, (0.23535113666014668, 0.23834733983342782, 0.24037370381479087))\n",
            "=== Generation 26 best solutions ====\n",
            "(0.38622312469955766, (0.2359148979587525, 0.23963554644053311, 0.24239128972780097))\n",
            "=== Generation 27 best solutions ====\n",
            "(0.4127193609684579, (0.23874918871148934, 0.24042472412906096, 0.2441683969629263))\n",
            "=== Generation 28 best solutions ====\n",
            "(0.44813547673654325, (0.23650125577906497, 0.23760362294617815, 0.24645626094072284))\n",
            "=== Generation 29 best solutions ====\n",
            "(0.49028383220241956, (0.24625864837610903, 0.24689590420339855, 0.24802381320235753))\n",
            "=== Generation 30 best solutions ====\n",
            "(0.5455667320935979, (0.24909269883607554, 0.24924195311403122, 0.2501690746007753))\n",
            "=== Generation 31 best solutions ====\n",
            "(0.600975398206305, (0.2498715706233051, 0.25149885148984436, 0.2519240859270937))\n",
            "=== Generation 32 best solutions ====\n",
            "(0.685384703817276, (0.24810148867656073, 0.24728581552715212, 0.25443313968422226))\n",
            "=== Generation 33 best solutions ====\n",
            "(0.8179593160394589, (0.24879906219000053, 0.24995610978066746, 0.25691930412851194))\n",
            "=== Generation 34 best solutions ====\n",
            "(1.0130345440158668, (0.25619096199360575, 0.25497687923213336, 0.25918732464716))\n",
            "=== Generation 35 best solutions ====\n",
            "(1.25708970201179, (0.24558513778164884, 0.2541459859265617, 0.26149255229576857))\n",
            "=== Generation 36 best solutions ====\n",
            "(1.5457893245393364, (0.25492244122606555, 0.26402030397526693, 0.2625147036221566))\n",
            "=== Generation 37 best solutions ====\n",
            "(2.3212668487547323, (0.26051651810163634, 0.26257697165511806, 0.26491772238343847))\n",
            "=== Generation 38 best solutions ====\n",
            "(3.085751835193281, (0.261393040748192, 0.26093720927775804, 0.2661775074974325))\n",
            "=== Generation 39 best solutions ====\n",
            "(11.358798556550129, (0.2645930953117831, 0.26383269425224926, 0.26860387903953076))\n",
            "=== Generation 40 best solutions ====\n",
            "(1963.71144557987, (0.26736490421186154, 0.2619784261094851, 0.26964601237797015))\n"
          ]
        }
      ]
    },
    {
      "cell_type": "markdown",
      "source": [
        "# **EXERCISE**"
      ],
      "metadata": {
        "id": "yseZZHV-t67M"
      }
    },
    {
      "cell_type": "code",
      "source": [
        "items = [(3, 266), (13, 442), (10, 671), (9, 526), (7, 388), (1, 245), (8, 210), (8, 145), (2, 126), (9, 322)]\n",
        "knapsack_cap = 35\n",
        "pop_size = 8\n",
        "generations = 20\n",
        "def calculate_score(individual):\n",
        "    total_val = 0\n",
        "    total_weight = 0\n",
        "    for r, gene in enumerate(individual):\n",
        "        if gene == 1:\n",
        "            total_val += items[r][1]\n",
        "            total_weight += items[r][0]\n",
        "    return total_val if total_weight <= knapsack_cap else 0\n",
        "def two_point_crossover(parent1, parent2):\n",
        "    crossover_point1 = random.randint(1, len(parent1) - 2)\n",
        "    crossover_point2 = random.randint(crossover_point1, len(parent1) - 1)\n",
        "    child1 = parent1[:crossover_point1] + parent2[crossover_point1:crossover_point2] + parent1[crossover_point2:]\n",
        "    child2 = parent2[:crossover_point1] + parent1[crossover_point1:crossover_point2] + parent2[crossover_point2:]\n",
        "    return child1, child2\n",
        "def mutation(individual):\n",
        "    mutation_prob = 0.05\n",
        "    for r in range(len(individual)):\n",
        "        if random.random() < mutation_prob:\n",
        "            individual[r] = 1 - individual[r]\n",
        "def selection(population):\n",
        "    population.sort(key=lambda individual: calculate_score(individual), reverse=True)\n",
        "    return population[:pop_size // 2]\n",
        "def genetic_algorithm():\n",
        "    population = [[0, 1, 0, 1, 1, 0, 0, 1, 1, 1],\n",
        "                  [1, 1, 1, 1, 0, 1, 1, 1, 0, 0],\n",
        "                  [0, 1, 0, 0, 0, 0, 1, 1, 0, 1],\n",
        "                  [0, 0, 1, 0, 1, 1, 0, 0, 0, 0],\n",
        "                  [0, 0, 1, 1, 0, 0, 0, 0, 0, 1],\n",
        "                  [0, 1, 0, 1, 1, 0, 1, 0, 0, 0],\n",
        "                  [1, 1, 1, 0, 0, 0, 1, 0, 1, 0],\n",
        "                  [0, 0, 0, 0, 1, 1, 1, 0, 0, 0]]\n",
        "    for _ in range(generations):\n",
        "        parents = selection(population)\n",
        "        offspring = []\n",
        "        for r in range(0, pop_size // 2, 2):\n",
        "            child1, child2 = two_point_crossover(parents[r], parents[r + 1])\n",
        "            offspring.append(child1)\n",
        "            offspring.append(child2)\n",
        "        for individual in offspring:\n",
        "            mutation(individual)\n",
        "        new_population = parents + offspring\n",
        "        population = selection(new_population)\n",
        "    best_individual = population[0]\n",
        "    best_score = calculate_score(best_individual)\n",
        "    return best_individual, best_score\n",
        "best_individual, best_score = genetic_algorithm()\n",
        "print(\"Best Individual:\", best_individual)\n",
        "print(\"Total Value:\", best_score)\n",
        "included_items = []\n",
        "for r, gene in enumerate(best_individual):\n",
        "    if gene == 1:\n",
        "        included_items.append(items[r])\n",
        "print(\"Items Included:\", included_items)"
      ],
      "metadata": {
        "colab": {
          "base_uri": "https://localhost:8080/"
        },
        "id": "1T7Zw_FUob_M",
        "outputId": "515f1521-eef0-477b-fa3f-5a1b3a371a5e"
      },
      "execution_count": 9,
      "outputs": [
        {
          "output_type": "stream",
          "name": "stdout",
          "text": [
            "Best Individual: [1, 0, 1, 1, 0, 1, 0, 0, 1, 1]\n",
            "Total Value: 2156\n",
            "Items Included: [(3, 266), (10, 671), (9, 526), (1, 245), (2, 126), (9, 322)]\n"
          ]
        }
      ]
    }
  ]
}