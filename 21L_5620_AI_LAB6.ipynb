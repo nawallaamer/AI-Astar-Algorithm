{
  "cells": [
    {
      "cell_type": "code",
      "source": [
        "def Adjacency(graphlist, denewala, lenewala):\n",
        "    graphlist[denewala].append(lenewala)\n",
        "    return graphlist\n",
        "\n",
        "from collections import deque\n",
        "def bfs(graph, start, goal):\n",
        "    visited = set()\n",
        "    queue = deque([[start]])\n",
        "    while queue:\n",
        "        current_path = queue.popleft()\n",
        "        node = current_path[-1]\n",
        "        if node not in visited:\n",
        "            adjacent_index = 0\n",
        "            while adjacent_index < len(graph[node]):\n",
        "                adjacent = graph[node][adjacent_index]\n",
        "                new_path = list(current_path)\n",
        "                new_path.append(adjacent)\n",
        "                queue.append(new_path)\n",
        "                adjacent_index += 1\n",
        "            visited.add(node)\n",
        "        if node == goal:\n",
        "            return current_path\n",
        "    return None\n",
        "\n",
        "graphlist = [[], [1], [2], [3], [4], [5], [6], [7]]\n",
        "graphlist = Adjacency(graphlist, 1, 3)\n",
        "graphlist = Adjacency(graphlist, 2, 3)\n",
        "graphlist = Adjacency(graphlist, 2, 5)\n",
        "graphlist = Adjacency(graphlist, 3, 1)\n",
        "graphlist = Adjacency(graphlist, 3, 2)\n",
        "graphlist = Adjacency(graphlist, 3, 4)\n",
        "graphlist = Adjacency(graphlist, 3, 7)\n",
        "graphlist = Adjacency(graphlist, 4, 3)\n",
        "graphlist = Adjacency(graphlist, 5, 2)\n",
        "graphlist = Adjacency(graphlist, 5, 6)\n",
        "graphlist = Adjacency(graphlist, 6, 5)\n",
        "graphlist = Adjacency(graphlist, 6, 7)\n",
        "graphlist = Adjacency(graphlist, 7, 3)\n",
        "graphlist = Adjacency(graphlist, 7, 6)\n",
        "path = bfs(graphlist, 1, 7)\n",
        "if path:\n",
        "    print(\"1 to 7 Path:\", path)\n",
        "else:\n",
        "    print(\"No path exists.\")"
      ],
      "metadata": {
        "colab": {
          "base_uri": "https://localhost:8080/"
        },
        "id": "LNsRqHg_67kz",
        "outputId": "96942e91-6bd2-4540-9085-269a339c972f"
      },
      "execution_count": 5,
      "outputs": [
        {
          "output_type": "stream",
          "name": "stdout",
          "text": [
            "1 to 7 Path: [1, 3, 7]\n"
          ]
        }
      ]
    },
    {
      "cell_type": "code",
      "source": [],
      "metadata": {
        "id": "pB0wS2mr8d8T"
      },
      "execution_count": null,
      "outputs": []
    }
  ],
  "metadata": {
    "kernelspec": {
      "display_name": "Python 3",
      "language": "python",
      "name": "python3"
    },
    "language_info": {
      "codemirror_mode": {
        "name": "ipython",
        "version": 3
      },
      "file_extension": ".py",
      "mimetype": "text/x-python",
      "name": "python",
      "nbconvert_exporter": "python",
      "pygments_lexer": "ipython3",
      "version": "3.11.4"
    },
    "colab": {
      "provenance": []
    }
  },
  "nbformat": 4,
  "nbformat_minor": 0
}