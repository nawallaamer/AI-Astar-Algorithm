{
  "nbformat": 4,
  "nbformat_minor": 0,
  "metadata": {
    "colab": {
      "provenance": []
    },
    "kernelspec": {
      "name": "python3",
      "display_name": "Python 3"
    },
    "language_info": {
      "name": "python"
    }
  },
  "cells": [
    {
      "cell_type": "markdown",
      "source": [
        "# **QUESTION 1**"
      ],
      "metadata": {
        "id": "YAjLFoIeYk5b"
      }
    },
    {
      "cell_type": "code",
      "source": [
        "def load_contacts(file_name):\n",
        "  contacts = []\n",
        "  with open(file_name, 'r') as file:\n",
        "      for line in file:\n",
        "          contact_info = line.strip().split(',')\n",
        "          contacts.append(tuple(contact_info))\n",
        "  return contacts"
      ],
      "metadata": {
        "id": "kWIIYhivaPJ7"
      },
      "execution_count": 1,
      "outputs": []
    },
    {
      "cell_type": "code",
      "source": [
        "def add_contact(contacts, name, phone, email):\n",
        "  for contact in contacts:\n",
        "      if name == contact[0]:\n",
        "          print(\"Redundant Contact.\")\n",
        "          return contacts\n",
        "  contacts.append((name, phone, email))\n",
        "  print(\"Contact Added. \")\n",
        "  return contacts"
      ],
      "metadata": {
        "id": "VYlgLvgzaPSa"
      },
      "execution_count": 2,
      "outputs": []
    },
    {
      "cell_type": "code",
      "source": [
        "def search_contact(contacts, name):\n",
        "  for contact in contacts:\n",
        "      if name == contact[0]:\n",
        "          return contact\n",
        "  return None"
      ],
      "metadata": {
        "id": "wIpvRCaiaPYr"
      },
      "execution_count": 3,
      "outputs": []
    },
    {
      "cell_type": "code",
      "source": [
        "def delete_contact(contacts, name):\n",
        "  for contact in contacts:\n",
        "      if name == contact[0]:\n",
        "          contacts.remove(contact)\n",
        "          print(\"Contact Deleted.\")\n",
        "          return contacts\n",
        "  print(\"Contact not found.\")\n",
        "  return contacts"
      ],
      "metadata": {
        "id": "rcT5y5waaPf7"
      },
      "execution_count": 4,
      "outputs": []
    },
    {
      "cell_type": "code",
      "source": [
        "def list_contacts(contacts):\n",
        "  sorted_contacts = sorted(contacts, key=lambda x: x[0])\n",
        "  for contact in sorted_contacts:\n",
        "      print(contact)"
      ],
      "metadata": {
        "id": "LabC0YQ6aPxS"
      },
      "execution_count": 5,
      "outputs": []
    },
    {
      "cell_type": "code",
      "source": [
        "def save_contacts(contacts, file_name):\n",
        "  with open(file_name, 'w') as file:\n",
        "      for contact in contacts:\n",
        "          file.write(','.join(contact) + '\\n')\n",
        "  print(\"Contact Saved.\")"
      ],
      "metadata": {
        "id": "GQp2MouBaW8b"
      },
      "execution_count": 6,
      "outputs": []
    },
    {
      "cell_type": "code",
      "source": [
        "file_name = 'contact.txt'\n",
        "contacts = load_contacts(file_name)\n",
        "contacts = add_contact(contacts, 'Jane Smith', '2345678901', 'janesmith@example.com')\n",
        "contact = search_contact(contacts, 'Nawall Aamer')\n",
        "if contact:\n",
        "    print(\"Contact Found:\", contact)\n",
        "else:\n",
        "    print(\"Contact not Found.\")\n",
        "contacts = delete_contact(contacts, 'Nawall Aamer Jutt')\n",
        "list_contacts(contacts)\n",
        "save_contacts(contacts, file_name)"
      ],
      "metadata": {
        "colab": {
          "base_uri": "https://localhost:8080/"
        },
        "id": "xMqmp_yvaXDE",
        "outputId": "761e3113-6435-4887-ad32-001e1e8ec23f"
      },
      "execution_count": 11,
      "outputs": [
        {
          "output_type": "stream",
          "name": "stdout",
          "text": [
            "Contact Added. \n",
            "Contact Found: ('Nawall Aamer', '090078601', 'nawallaamerjutt@example.com')\n",
            "Contact Deleted.\n",
            "('Alex Johnson', '3456789012', 'alexjohnson@example.com')\n",
            "('Jane Smith', '2345678901', 'janesmith@example.com')\n",
            "('John Doe', '1234567890', 'johndoe@example.com')\n",
            "('Nawall Aamer', '090078601', 'nawallaamerjutt@example.com')\n",
            "Contact Saved.\n"
          ]
        }
      ]
    },
    {
      "cell_type": "markdown",
      "source": [
        "# **QUESTION 2**"
      ],
      "metadata": {
        "id": "7IawBNSHaX-b"
      }
    },
    {
      "cell_type": "code",
      "source": [
        "import string\n",
        "def getWordsList(filename):\n",
        "    words_list = []\n",
        "    translator= str.maketrans('','', string.punctuation)\n",
        "    with open(filename, 'r') as file:\n",
        "        data = file.read().lower()\n",
        "        data= data.translate(translator)\n",
        "        words = data.split()\n",
        "        for word in words:\n",
        "            if word.isalpha():\n",
        "                words_list.append(word)\n",
        "    return words_list"
      ],
      "metadata": {
        "id": "M_1Pl3bnZfjC"
      },
      "execution_count": 25,
      "outputs": []
    },
    {
      "cell_type": "code",
      "source": [
        "def printWord(words_list):\n",
        "    word_count = {}\n",
        "    total_words = len(words_list)\n",
        "    for word in words_list:\n",
        "        if word in word_count:\n",
        "            word_count[word] += 1\n",
        "        else:\n",
        "            word_count[word] = 1\n",
        "    sorted_word_count = {k: v for k, v in sorted(word_count.items(), key=lambda item: item[1], reverse=True)}\n",
        "    print(\"{:<10} {:<5} {:<10}\".format('Word', 'Count', 'Probability'))\n",
        "    for word, count in sorted_word_count.items():\n",
        "        probability = count / total_words\n",
        "        print(\"{:<10} {:<5} {:<10}\".format(word, count, f\"{count}/{total_words}\"))"
      ],
      "metadata": {
        "id": "PIW-Ta_LZfoS"
      },
      "execution_count": 26,
      "outputs": []
    },
    {
      "cell_type": "code",
      "source": [
        "file= \"data.txt\"\n",
        "preprocess= getWordsList(file)\n",
        "printWord(preprocess)"
      ],
      "metadata": {
        "colab": {
          "base_uri": "https://localhost:8080/"
        },
        "id": "xC8gxgxchans",
        "outputId": "625266a4-8714-4f44-df05-402e88cfdb30"
      },
      "execution_count": 27,
      "outputs": [
        {
          "output_type": "stream",
          "name": "stdout",
          "text": [
            "Word       Count Probability\n",
            "hello      2     2/13      \n",
            "body       2     2/13      \n",
            "i          2     2/13      \n",
            "am         2     2/13      \n",
            "to         1     1/13      \n",
            "yourss     1     1/13      \n",
            "sincerely  1     1/13      \n",
            "ali        1     1/13      \n",
            "no         1     1/13      \n"
          ]
        }
      ]
    },
    {
      "cell_type": "code",
      "source": [],
      "metadata": {
        "id": "z-dNKsjQh3BO"
      },
      "execution_count": null,
      "outputs": []
    }
  ]
}